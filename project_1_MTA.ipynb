{
 "cells": [
  {
   "cell_type": "markdown",
   "metadata": {},
   "source": [
    "```\n",
    "Topic:        Project 1\n",
    "Subject:      Explore MTA turnstile data\n",
    "Date:         07/06/2020\n",
    "Names:        David Weon, Adam Rauckhorst, Dyllan Usher\n",
    "\n",
    "Notebook has been cleaned using nbextension 'Code prettify'\n",
    "```"
   ]
  },
  {
   "cell_type": "markdown",
   "metadata": {},
   "source": [
    "# Importing MTA Data"
   ]
  },
  {
   "cell_type": "code",
   "execution_count": 1,
   "metadata": {
    "ExecuteTime": {
     "end_time": "2020-07-05T22:17:53.117238Z",
     "start_time": "2020-07-05T22:17:43.392343Z"
    }
   },
   "outputs": [],
   "source": [
    "#last 6 weeks before start of summer (end of June)\n",
    "\n",
    "import pandas as pd\n",
    "csvs = [\n",
    "    'http://web.mta.info/developers/data/nyct/turnstile/turnstile_190601.txt',\n",
    "    'http://web.mta.info/developers/data/nyct/turnstile/turnstile_190608.txt',\n",
    "    'http://web.mta.info/developers/data/nyct/turnstile/turnstile_190615.txt',\n",
    "    'http://web.mta.info/developers/data/nyct/turnstile/turnstile_190622.txt',\n",
    "    'http://web.mta.info/developers/data/nyct/turnstile/turnstile_190525.txt',\n",
    "    'http://web.mta.info/developers/data/nyct/turnstile/turnstile_190518.txt'\n",
    "]\n",
    "df = pd.concat((pd.read_csv(csv) for csv in csvs))"
   ]
  },
  {
   "cell_type": "code",
   "execution_count": 2,
   "metadata": {
    "ExecuteTime": {
     "end_time": "2020-07-05T22:17:53.835806Z",
     "start_time": "2020-07-05T22:17:53.119981Z"
    }
   },
   "outputs": [],
   "source": [
    "df.reset_index(inplace=True)\n",
    "df.columns = [column.strip() for column in df.columns]\n",
    "df['DATETIME'] = pd.to_datetime(df['DATE'] + ' ' + df['TIME'],\n",
    "                                format=\"%m/%d/%Y %H:%M:%S\")"
   ]
  },
  {
   "cell_type": "markdown",
   "metadata": {},
   "source": [
    "# Cleaning the MTA Data"
   ]
  },
  {
   "cell_type": "code",
   "execution_count": 3,
   "metadata": {
    "ExecuteTime": {
     "end_time": "2020-07-05T22:17:54.710363Z",
     "start_time": "2020-07-05T22:17:53.838565Z"
    }
   },
   "outputs": [
    {
     "data": {
      "text/html": [
       "<div>\n",
       "<style scoped>\n",
       "    .dataframe tbody tr th:only-of-type {\n",
       "        vertical-align: middle;\n",
       "    }\n",
       "\n",
       "    .dataframe tbody tr th {\n",
       "        vertical-align: top;\n",
       "    }\n",
       "\n",
       "    .dataframe thead th {\n",
       "        text-align: right;\n",
       "    }\n",
       "</style>\n",
       "<table border=\"1\" class=\"dataframe\">\n",
       "  <thead>\n",
       "    <tr style=\"text-align: right;\">\n",
       "      <th></th>\n",
       "      <th>C/A</th>\n",
       "      <th>UNIT</th>\n",
       "      <th>SCP</th>\n",
       "      <th>STATION</th>\n",
       "      <th>DATETIME</th>\n",
       "      <th>ENTRIES</th>\n",
       "    </tr>\n",
       "  </thead>\n",
       "  <tbody>\n",
       "    <tr>\n",
       "      <th>870892</th>\n",
       "      <td>R174</td>\n",
       "      <td>R034</td>\n",
       "      <td>00-00-02</td>\n",
       "      <td>125 ST</td>\n",
       "      <td>2019-06-08 00:00:00</td>\n",
       "      <td>2</td>\n",
       "    </tr>\n",
       "    <tr>\n",
       "      <th>612865</th>\n",
       "      <td>N525</td>\n",
       "      <td>R142</td>\n",
       "      <td>01-00-04</td>\n",
       "      <td>DELANCEY/ESSEX</td>\n",
       "      <td>2019-05-11 05:00:00</td>\n",
       "      <td>2</td>\n",
       "    </tr>\n",
       "    <tr>\n",
       "      <th>291196</th>\n",
       "      <td>N045</td>\n",
       "      <td>R187</td>\n",
       "      <td>01-00-02</td>\n",
       "      <td>81 ST-MUSEUM</td>\n",
       "      <td>2019-06-01 17:00:00</td>\n",
       "      <td>2</td>\n",
       "    </tr>\n",
       "    <tr>\n",
       "      <th>291507</th>\n",
       "      <td>N045</td>\n",
       "      <td>R187</td>\n",
       "      <td>01-06-00</td>\n",
       "      <td>81 ST-MUSEUM</td>\n",
       "      <td>2019-06-11 21:00:00</td>\n",
       "      <td>2</td>\n",
       "    </tr>\n",
       "    <tr>\n",
       "      <th>291201</th>\n",
       "      <td>N045</td>\n",
       "      <td>R187</td>\n",
       "      <td>01-00-02</td>\n",
       "      <td>81 ST-MUSEUM</td>\n",
       "      <td>2019-06-02 17:00:00</td>\n",
       "      <td>2</td>\n",
       "    </tr>\n",
       "    <tr>\n",
       "      <th>290953</th>\n",
       "      <td>N045</td>\n",
       "      <td>R187</td>\n",
       "      <td>01-00-01</td>\n",
       "      <td>81 ST-MUSEUM</td>\n",
       "      <td>2019-06-02 17:00:00</td>\n",
       "      <td>2</td>\n",
       "    </tr>\n",
       "    <tr>\n",
       "      <th>177966</th>\n",
       "      <td>G009</td>\n",
       "      <td>R151</td>\n",
       "      <td>02-00-03</td>\n",
       "      <td>CONEY IS-STILLW</td>\n",
       "      <td>2019-05-16 17:00:00</td>\n",
       "      <td>2</td>\n",
       "    </tr>\n",
       "    <tr>\n",
       "      <th>178219</th>\n",
       "      <td>G009</td>\n",
       "      <td>R151</td>\n",
       "      <td>02-00-04</td>\n",
       "      <td>CONEY IS-STILLW</td>\n",
       "      <td>2019-05-16 17:00:00</td>\n",
       "      <td>2</td>\n",
       "    </tr>\n",
       "    <tr>\n",
       "      <th>612613</th>\n",
       "      <td>N525</td>\n",
       "      <td>R142</td>\n",
       "      <td>01-00-03</td>\n",
       "      <td>DELANCEY/ESSEX</td>\n",
       "      <td>2019-05-11 05:00:00</td>\n",
       "      <td>2</td>\n",
       "    </tr>\n",
       "    <tr>\n",
       "      <th>870637</th>\n",
       "      <td>R174</td>\n",
       "      <td>R034</td>\n",
       "      <td>00-00-01</td>\n",
       "      <td>125 ST</td>\n",
       "      <td>2019-06-08 00:00:00</td>\n",
       "      <td>2</td>\n",
       "    </tr>\n",
       "    <tr>\n",
       "      <th>1016638</th>\n",
       "      <td>R290</td>\n",
       "      <td>R161</td>\n",
       "      <td>00-00-00</td>\n",
       "      <td>KINGSBRIDGE RD</td>\n",
       "      <td>2019-06-07 05:00:00</td>\n",
       "      <td>2</td>\n",
       "    </tr>\n",
       "    <tr>\n",
       "      <th>291290</th>\n",
       "      <td>N045</td>\n",
       "      <td>R187</td>\n",
       "      <td>01-00-02</td>\n",
       "      <td>81 ST-MUSEUM</td>\n",
       "      <td>2019-06-17 09:00:00</td>\n",
       "      <td>2</td>\n",
       "    </tr>\n",
       "    <tr>\n",
       "      <th>290948</th>\n",
       "      <td>N045</td>\n",
       "      <td>R187</td>\n",
       "      <td>01-00-01</td>\n",
       "      <td>81 ST-MUSEUM</td>\n",
       "      <td>2019-06-01 17:00:00</td>\n",
       "      <td>2</td>\n",
       "    </tr>\n",
       "    <tr>\n",
       "      <th>291452</th>\n",
       "      <td>N045</td>\n",
       "      <td>R187</td>\n",
       "      <td>01-06-00</td>\n",
       "      <td>81 ST-MUSEUM</td>\n",
       "      <td>2019-06-02 17:00:00</td>\n",
       "      <td>2</td>\n",
       "    </tr>\n",
       "    <tr>\n",
       "      <th>290702</th>\n",
       "      <td>N045</td>\n",
       "      <td>R187</td>\n",
       "      <td>01-00-00</td>\n",
       "      <td>81 ST-MUSEUM</td>\n",
       "      <td>2019-06-02 17:00:00</td>\n",
       "      <td>2</td>\n",
       "    </tr>\n",
       "    <tr>\n",
       "      <th>290697</th>\n",
       "      <td>N045</td>\n",
       "      <td>R187</td>\n",
       "      <td>01-00-00</td>\n",
       "      <td>81 ST-MUSEUM</td>\n",
       "      <td>2019-06-01 17:00:00</td>\n",
       "      <td>2</td>\n",
       "    </tr>\n",
       "    <tr>\n",
       "      <th>871147</th>\n",
       "      <td>R174</td>\n",
       "      <td>R034</td>\n",
       "      <td>00-00-03</td>\n",
       "      <td>125 ST</td>\n",
       "      <td>2019-06-08 00:00:00</td>\n",
       "      <td>2</td>\n",
       "    </tr>\n",
       "    <tr>\n",
       "      <th>822182</th>\n",
       "      <td>R142</td>\n",
       "      <td>R293</td>\n",
       "      <td>01-00-02</td>\n",
       "      <td>34 ST-PENN STA</td>\n",
       "      <td>2019-05-19 10:00:00</td>\n",
       "      <td>1</td>\n",
       "    </tr>\n",
       "    <tr>\n",
       "      <th>822174</th>\n",
       "      <td>R142</td>\n",
       "      <td>R293</td>\n",
       "      <td>01-00-02</td>\n",
       "      <td>34 ST-PENN STA</td>\n",
       "      <td>2019-05-18 02:00:00</td>\n",
       "      <td>1</td>\n",
       "    </tr>\n",
       "    <tr>\n",
       "      <th>822165</th>\n",
       "      <td>R142</td>\n",
       "      <td>R293</td>\n",
       "      <td>01-00-02</td>\n",
       "      <td>34 ST-PENN STA</td>\n",
       "      <td>2019-05-16 22:00:00</td>\n",
       "      <td>1</td>\n",
       "    </tr>\n",
       "  </tbody>\n",
       "</table>\n",
       "</div>"
      ],
      "text/plain": [
       "          C/A  UNIT       SCP          STATION            DATETIME  ENTRIES\n",
       "870892   R174  R034  00-00-02           125 ST 2019-06-08 00:00:00        2\n",
       "612865   N525  R142  01-00-04   DELANCEY/ESSEX 2019-05-11 05:00:00        2\n",
       "291196   N045  R187  01-00-02     81 ST-MUSEUM 2019-06-01 17:00:00        2\n",
       "291507   N045  R187  01-06-00     81 ST-MUSEUM 2019-06-11 21:00:00        2\n",
       "291201   N045  R187  01-00-02     81 ST-MUSEUM 2019-06-02 17:00:00        2\n",
       "290953   N045  R187  01-00-01     81 ST-MUSEUM 2019-06-02 17:00:00        2\n",
       "177966   G009  R151  02-00-03  CONEY IS-STILLW 2019-05-16 17:00:00        2\n",
       "178219   G009  R151  02-00-04  CONEY IS-STILLW 2019-05-16 17:00:00        2\n",
       "612613   N525  R142  01-00-03   DELANCEY/ESSEX 2019-05-11 05:00:00        2\n",
       "870637   R174  R034  00-00-01           125 ST 2019-06-08 00:00:00        2\n",
       "1016638  R290  R161  00-00-00   KINGSBRIDGE RD 2019-06-07 05:00:00        2\n",
       "291290   N045  R187  01-00-02     81 ST-MUSEUM 2019-06-17 09:00:00        2\n",
       "290948   N045  R187  01-00-01     81 ST-MUSEUM 2019-06-01 17:00:00        2\n",
       "291452   N045  R187  01-06-00     81 ST-MUSEUM 2019-06-02 17:00:00        2\n",
       "290702   N045  R187  01-00-00     81 ST-MUSEUM 2019-06-02 17:00:00        2\n",
       "290697   N045  R187  01-00-00     81 ST-MUSEUM 2019-06-01 17:00:00        2\n",
       "871147   R174  R034  00-00-03           125 ST 2019-06-08 00:00:00        2\n",
       "822182   R142  R293  01-00-02   34 ST-PENN STA 2019-05-19 10:00:00        1\n",
       "822174   R142  R293  01-00-02   34 ST-PENN STA 2019-05-18 02:00:00        1\n",
       "822165   R142  R293  01-00-02   34 ST-PENN STA 2019-05-16 22:00:00        1"
      ]
     },
     "execution_count": 3,
     "metadata": {},
     "output_type": "execute_result"
    }
   ],
   "source": [
    "#checking for duplicate entries\n",
    "(df.groupby([\"C/A\", \"UNIT\", \"SCP\", \"STATION\",\n",
    "             \"DATETIME\"]).ENTRIES.count().reset_index().sort_values(\n",
    "                 \"ENTRIES\", ascending=False).head(20))"
   ]
  },
  {
   "cell_type": "code",
   "execution_count": 4,
   "metadata": {
    "ExecuteTime": {
     "end_time": "2020-07-05T22:17:55.681611Z",
     "start_time": "2020-07-05T22:17:54.712700Z"
    }
   },
   "outputs": [],
   "source": [
    "#removing duplicate entries\n",
    "df.sort_values([\"C/A\", \"UNIT\", \"SCP\", \"STATION\", \"DATETIME\"],\n",
    "               inplace=True,\n",
    "               ascending=False)\n",
    "df.drop_duplicates(subset=[\"C/A\", \"UNIT\", \"SCP\", \"STATION\", \"DATETIME\"],\n",
    "                   inplace=True)"
   ]
  },
  {
   "cell_type": "code",
   "execution_count": 5,
   "metadata": {
    "ExecuteTime": {
     "end_time": "2020-07-05T22:17:56.512021Z",
     "start_time": "2020-07-05T22:17:55.683402Z"
    }
   },
   "outputs": [
    {
     "data": {
      "text/html": [
       "<div>\n",
       "<style scoped>\n",
       "    .dataframe tbody tr th:only-of-type {\n",
       "        vertical-align: middle;\n",
       "    }\n",
       "\n",
       "    .dataframe tbody tr th {\n",
       "        vertical-align: top;\n",
       "    }\n",
       "\n",
       "    .dataframe thead th {\n",
       "        text-align: right;\n",
       "    }\n",
       "</style>\n",
       "<table border=\"1\" class=\"dataframe\">\n",
       "  <thead>\n",
       "    <tr style=\"text-align: right;\">\n",
       "      <th></th>\n",
       "      <th>C/A</th>\n",
       "      <th>UNIT</th>\n",
       "      <th>SCP</th>\n",
       "      <th>STATION</th>\n",
       "      <th>DATETIME</th>\n",
       "      <th>ENTRIES</th>\n",
       "    </tr>\n",
       "  </thead>\n",
       "  <tbody>\n",
       "    <tr>\n",
       "      <th>0</th>\n",
       "      <td>A002</td>\n",
       "      <td>R051</td>\n",
       "      <td>02-00-00</td>\n",
       "      <td>59 ST</td>\n",
       "      <td>2019-05-11 00:00:00</td>\n",
       "      <td>1</td>\n",
       "    </tr>\n",
       "    <tr>\n",
       "      <th>822170</th>\n",
       "      <td>R142</td>\n",
       "      <td>R293</td>\n",
       "      <td>01-00-02</td>\n",
       "      <td>34 ST-PENN STA</td>\n",
       "      <td>2019-05-17 10:00:00</td>\n",
       "      <td>1</td>\n",
       "    </tr>\n",
       "    <tr>\n",
       "      <th>822168</th>\n",
       "      <td>R142</td>\n",
       "      <td>R293</td>\n",
       "      <td>01-00-02</td>\n",
       "      <td>34 ST-PENN STA</td>\n",
       "      <td>2019-05-17 08:58:51</td>\n",
       "      <td>1</td>\n",
       "    </tr>\n",
       "    <tr>\n",
       "      <th>822167</th>\n",
       "      <td>R142</td>\n",
       "      <td>R293</td>\n",
       "      <td>01-00-02</td>\n",
       "      <td>34 ST-PENN STA</td>\n",
       "      <td>2019-05-17 06:00:00</td>\n",
       "      <td>1</td>\n",
       "    </tr>\n",
       "    <tr>\n",
       "      <th>822166</th>\n",
       "      <td>R142</td>\n",
       "      <td>R293</td>\n",
       "      <td>01-00-02</td>\n",
       "      <td>34 ST-PENN STA</td>\n",
       "      <td>2019-05-17 02:00:00</td>\n",
       "      <td>1</td>\n",
       "    </tr>\n",
       "  </tbody>\n",
       "</table>\n",
       "</div>"
      ],
      "text/plain": [
       "         C/A  UNIT       SCP         STATION            DATETIME  ENTRIES\n",
       "0       A002  R051  02-00-00           59 ST 2019-05-11 00:00:00        1\n",
       "822170  R142  R293  01-00-02  34 ST-PENN STA 2019-05-17 10:00:00        1\n",
       "822168  R142  R293  01-00-02  34 ST-PENN STA 2019-05-17 08:58:51        1\n",
       "822167  R142  R293  01-00-02  34 ST-PENN STA 2019-05-17 06:00:00        1\n",
       "822166  R142  R293  01-00-02  34 ST-PENN STA 2019-05-17 02:00:00        1"
      ]
     },
     "execution_count": 5,
     "metadata": {},
     "output_type": "execute_result"
    }
   ],
   "source": [
    "#final check for duplicates\n",
    "(df.groupby([\"C/A\", \"UNIT\", \"SCP\", \"STATION\",\n",
    "             \"DATETIME\"]).ENTRIES.count().reset_index().sort_values(\n",
    "                 \"ENTRIES\", ascending=False)).head(5)"
   ]
  },
  {
   "cell_type": "code",
   "execution_count": 6,
   "metadata": {
    "ExecuteTime": {
     "end_time": "2020-07-05T22:17:56.657681Z",
     "start_time": "2020-07-05T22:17:56.514655Z"
    },
    "scrolled": true
   },
   "outputs": [],
   "source": [
    "#dropping unneeded columns\n",
    "df = df.drop([\"EXITS\", \"DESC\"], axis=1, errors=\"ignore\")"
   ]
  },
  {
   "cell_type": "code",
   "execution_count": 7,
   "metadata": {
    "ExecuteTime": {
     "end_time": "2020-07-05T22:17:57.086094Z",
     "start_time": "2020-07-05T22:17:56.662009Z"
    }
   },
   "outputs": [],
   "source": [
    "#first value for each day\n",
    "turnstiles_daily = (df.groupby([\"C/A\", \"UNIT\", \"SCP\", \"STATION\", \"DATE\"],\n",
    "                               as_index=False).ENTRIES.first())"
   ]
  },
  {
   "cell_type": "code",
   "execution_count": 8,
   "metadata": {
    "ExecuteTime": {
     "end_time": "2020-07-05T22:17:59.743009Z",
     "start_time": "2020-07-05T22:17:57.090305Z"
    }
   },
   "outputs": [
    {
     "name": "stderr",
     "output_type": "stream",
     "text": [
      "/opt/anaconda3/lib/python3.7/site-packages/ipykernel_launcher.py:3: FutureWarning: Indexing with multiple keys (implicitly converted to a tuple of keys) will be deprecated, use a list instead.\n",
      "  This is separate from the ipykernel package so we can avoid doing imports until\n"
     ]
    }
   ],
   "source": [
    "#shifting entries to create current and previous day entries\n",
    "turnstiles_daily[[\"PREV_DATE\", \"PREV_ENTRIES\"]] = (turnstiles_daily.groupby(\n",
    "    [\"C/A\", \"UNIT\", \"SCP\",\n",
    "     \"STATION\"])[\"DATE\", \"ENTRIES\"].apply(lambda grp: grp.shift(1)))"
   ]
  },
  {
   "cell_type": "code",
   "execution_count": 9,
   "metadata": {
    "ExecuteTime": {
     "end_time": "2020-07-05T22:17:59.800732Z",
     "start_time": "2020-07-05T22:17:59.744712Z"
    }
   },
   "outputs": [],
   "source": [
    "#dropping the first row for NaN value\n",
    "turnstiles_daily.dropna(subset=[\"PREV_DATE\"], axis=0, inplace=True)"
   ]
  },
  {
   "cell_type": "code",
   "execution_count": 10,
   "metadata": {
    "ExecuteTime": {
     "end_time": "2020-07-05T22:17:59.818833Z",
     "start_time": "2020-07-05T22:17:59.802952Z"
    }
   },
   "outputs": [
    {
     "data": {
      "text/html": [
       "<div>\n",
       "<style scoped>\n",
       "    .dataframe tbody tr th:only-of-type {\n",
       "        vertical-align: middle;\n",
       "    }\n",
       "\n",
       "    .dataframe tbody tr th {\n",
       "        vertical-align: top;\n",
       "    }\n",
       "\n",
       "    .dataframe thead th {\n",
       "        text-align: right;\n",
       "    }\n",
       "</style>\n",
       "<table border=\"1\" class=\"dataframe\">\n",
       "  <thead>\n",
       "    <tr style=\"text-align: right;\">\n",
       "      <th></th>\n",
       "      <th>C/A</th>\n",
       "      <th>UNIT</th>\n",
       "      <th>SCP</th>\n",
       "      <th>STATION</th>\n",
       "      <th>DATE</th>\n",
       "      <th>ENTRIES</th>\n",
       "      <th>PREV_DATE</th>\n",
       "      <th>PREV_ENTRIES</th>\n",
       "    </tr>\n",
       "  </thead>\n",
       "  <tbody>\n",
       "    <tr>\n",
       "      <th>3231</th>\n",
       "      <td>A025</td>\n",
       "      <td>R023</td>\n",
       "      <td>01-03-01</td>\n",
       "      <td>34 ST-HERALD SQ</td>\n",
       "      <td>05/12/2019</td>\n",
       "      <td>1238416287</td>\n",
       "      <td>05/11/2019</td>\n",
       "      <td>1.238418e+09</td>\n",
       "    </tr>\n",
       "    <tr>\n",
       "      <th>3232</th>\n",
       "      <td>A025</td>\n",
       "      <td>R023</td>\n",
       "      <td>01-03-01</td>\n",
       "      <td>34 ST-HERALD SQ</td>\n",
       "      <td>05/13/2019</td>\n",
       "      <td>1238412729</td>\n",
       "      <td>05/12/2019</td>\n",
       "      <td>1.238416e+09</td>\n",
       "    </tr>\n",
       "    <tr>\n",
       "      <th>3233</th>\n",
       "      <td>A025</td>\n",
       "      <td>R023</td>\n",
       "      <td>01-03-01</td>\n",
       "      <td>34 ST-HERALD SQ</td>\n",
       "      <td>05/14/2019</td>\n",
       "      <td>1238408861</td>\n",
       "      <td>05/13/2019</td>\n",
       "      <td>1.238413e+09</td>\n",
       "    </tr>\n",
       "    <tr>\n",
       "      <th>3234</th>\n",
       "      <td>A025</td>\n",
       "      <td>R023</td>\n",
       "      <td>01-03-01</td>\n",
       "      <td>34 ST-HERALD SQ</td>\n",
       "      <td>05/15/2019</td>\n",
       "      <td>1238404863</td>\n",
       "      <td>05/14/2019</td>\n",
       "      <td>1.238409e+09</td>\n",
       "    </tr>\n",
       "    <tr>\n",
       "      <th>3235</th>\n",
       "      <td>A025</td>\n",
       "      <td>R023</td>\n",
       "      <td>01-03-01</td>\n",
       "      <td>34 ST-HERALD SQ</td>\n",
       "      <td>05/16/2019</td>\n",
       "      <td>1238400648</td>\n",
       "      <td>05/15/2019</td>\n",
       "      <td>1.238405e+09</td>\n",
       "    </tr>\n",
       "  </tbody>\n",
       "</table>\n",
       "</div>"
      ],
      "text/plain": [
       "       C/A  UNIT       SCP          STATION        DATE     ENTRIES  \\\n",
       "3231  A025  R023  01-03-01  34 ST-HERALD SQ  05/12/2019  1238416287   \n",
       "3232  A025  R023  01-03-01  34 ST-HERALD SQ  05/13/2019  1238412729   \n",
       "3233  A025  R023  01-03-01  34 ST-HERALD SQ  05/14/2019  1238408861   \n",
       "3234  A025  R023  01-03-01  34 ST-HERALD SQ  05/15/2019  1238404863   \n",
       "3235  A025  R023  01-03-01  34 ST-HERALD SQ  05/16/2019  1238400648   \n",
       "\n",
       "       PREV_DATE  PREV_ENTRIES  \n",
       "3231  05/11/2019  1.238418e+09  \n",
       "3232  05/12/2019  1.238416e+09  \n",
       "3233  05/13/2019  1.238413e+09  \n",
       "3234  05/14/2019  1.238409e+09  \n",
       "3235  05/15/2019  1.238405e+09  "
      ]
     },
     "execution_count": 10,
     "metadata": {},
     "output_type": "execute_result"
    }
   ],
   "source": [
    "#checking if some counters are in reverse\n",
    "turnstiles_daily[\n",
    "    turnstiles_daily[\"ENTRIES\"] < turnstiles_daily[\"PREV_ENTRIES\"]].head()"
   ]
  },
  {
   "cell_type": "code",
   "execution_count": 11,
   "metadata": {
    "ExecuteTime": {
     "end_time": "2020-07-05T22:17:59.838178Z",
     "start_time": "2020-07-05T22:17:59.821155Z"
    }
   },
   "outputs": [
    {
     "data": {
      "text/plain": [
       "C/A   UNIT  SCP       STATION        \n",
       "A025  R023  01-03-01  34 ST-HERALD SQ    41\n",
       "A037  R170  05-00-00  14 ST-UNION SQ      1\n",
       "A043  R462  00-06-00  CANAL ST            1\n",
       "A049  R088  02-05-00  CORTLANDT ST       35\n",
       "A066  R118  00-00-00  CANAL ST           41\n",
       "                                         ..\n",
       "R610  R057  00-04-01  ATL AV-BARCLAY      1\n",
       "R621  R060  00-03-01  EASTN PKWY-MUSM     2\n",
       "R622  R123  00-00-00  FRANKLIN AV        41\n",
       "R646  R110  01-00-01  FLATBUSH AV-B.C    41\n",
       "R730  R431  00-00-04  EASTCHSTER/DYRE    41\n",
       "Length: 446, dtype: int64"
      ]
     },
     "execution_count": 11,
     "metadata": {},
     "output_type": "execute_result"
    }
   ],
   "source": [
    "#finding the stations that have this reverse counter problem\n",
    "(turnstiles_daily[\n",
    "    turnstiles_daily[\"ENTRIES\"] < turnstiles_daily[\"PREV_ENTRIES\"]].groupby(\n",
    "        [\"C/A\", \"UNIT\", \"SCP\", \"STATION\"]).size())"
   ]
  },
  {
   "cell_type": "code",
   "execution_count": 12,
   "metadata": {
    "ExecuteTime": {
     "end_time": "2020-07-05T22:18:04.404786Z",
     "start_time": "2020-07-05T22:17:59.841532Z"
    },
    "scrolled": true
   },
   "outputs": [
    {
     "name": "stdout",
     "output_type": "stream",
     "text": [
      "617 3124306.0\n",
      "458941 950058.0\n",
      "62 185793.0\n",
      "1376283 8703.0\n",
      "142 1087600.0\n",
      "371 4317056.0\n",
      "1790 13967417.0\n",
      "221 7246254.0\n",
      "4050694 5902992.0\n",
      "7246468 4050451.0\n",
      "769 15418705.0\n",
      "417 127761.0\n",
      "2342 102694.0\n",
      "1377 4767345.0\n",
      "458758 13397.0\n",
      "5571815 104607574.0\n",
      "1132 201981.0\n",
      "459063 4526857.0\n",
      "423 6527507.0\n",
      "2037 238251.0\n",
      "569320761 4807349.0\n",
      "1296 497472.0\n",
      "0 966871.0\n",
      "852339 658.0\n",
      "228 1393341.0\n",
      "323 321156.0\n",
      "286 3466273.0\n",
      "170 9029061.0\n",
      "458791 679184.0\n",
      "1828703861 9687851.0\n",
      "126 4086499.0\n",
      "393248 714917.0\n",
      "1834 2588198.0\n",
      "196614 2998634.0\n",
      "999 144534.0\n",
      "1337 4676887.0\n",
      "607 621485338.0\n",
      "393216 0.0\n",
      "0 393216.0\n",
      "2436 6998906.0\n",
      "273 8876303.0\n",
      "1178879221 4472670.0\n",
      "259 313950.0\n",
      "22 382183.0\n",
      "94 175933.0\n",
      "93 151648.0\n",
      "149 1252883.0\n",
      "1 449687.0\n",
      "42 349229.0\n",
      "159 332333.0\n",
      "216 728932.0\n",
      "76 249710.0\n",
      "174 152950.0\n",
      "178 129005.0\n",
      "12 118556.0\n",
      "460 199603.0\n",
      "37 189828.0\n",
      "710 404946.0\n",
      "553 883514.0\n",
      "611 337716.0\n",
      "656 432312.0\n",
      "728 111738.0\n",
      "580 1650137.0\n",
      "636 308667.0\n",
      "432 108252.0\n",
      "361 420780.0\n",
      "370 254742.0\n",
      "463 263385.0\n",
      "280 261830.0\n",
      "120 248437.0\n",
      "534 355564.0\n",
      "294 101764.0\n",
      "471 796882.0\n",
      "175 221904.0\n",
      "820 1523029.0\n",
      "375 936362.0\n",
      "299 103264.0\n",
      "24 241917.0\n",
      "320 227712.0\n",
      "6 120451.0\n",
      "650 230863.0\n",
      "241 251149.0\n",
      "366 1047791.0\n",
      "761 564967.0\n",
      "932 607519.0\n",
      "840 1251816.0\n",
      "634 1572569.0\n",
      "333 151911.0\n",
      "167 285158.0\n",
      "75 431127.0\n",
      "1 224427.0\n",
      "385 170909.0\n",
      "362 261238.0\n",
      "503 281789.0\n",
      "103 348982.0\n",
      "572 527380.0\n",
      "857 3126422.0\n",
      "1113 1946726.0\n",
      "1057 1214910.0\n",
      "1154 968173.0\n",
      "757 290583.0\n",
      "195 392983.0\n",
      "594 533833.0\n",
      "291 1309224.0\n",
      "215 778553.0\n",
      "89 556763.0\n",
      "897 382092.0\n",
      "1056 102528.0\n",
      "1484 1063313.0\n",
      "1335 306816.0\n",
      "530 261864.0\n",
      "157 171886.0\n",
      "123 175991.0\n",
      "116 296450.0\n",
      "1924 852022.0\n",
      "1317 2409654.0\n",
      "208 241581.0\n",
      "465 131436.0\n",
      "1060 1093122.0\n",
      "950 869016.0\n",
      "1 136597.0\n",
      "1 618239.0\n",
      "1591 388723.0\n",
      "90 208449.0\n",
      "478 975675.0\n",
      "492 149686.0\n",
      "1061 1461284.0\n",
      "1844 255698.0\n",
      "1472 1054311.0\n",
      "1088 2725203.0\n",
      "159 121682.0\n",
      "457 898588.0\n",
      "2095 2041280.0\n",
      "6582 2204424.0\n",
      "1 1910177.0\n",
      "5 243172.0\n",
      "67 255967.0\n",
      "51 184721.0\n",
      "27 323740.0\n",
      "42 132667.0\n",
      "260 148110.0\n",
      "257 125625.0\n",
      "212 1003601.0\n",
      "710 104162.0\n",
      "488 166883.0\n",
      "1 199906.0\n",
      "294 187786.0\n",
      "531 3209791.0\n",
      "2452 1395536.0\n",
      "1832 134104.0\n",
      "1752 120086.0\n",
      "2094 2286050.0\n",
      "238 733761.0\n",
      "1958 1696178.0\n",
      "1977 1058528.0\n",
      "2019 987950.0\n",
      "0 1078800.0\n",
      "2291 907453.0\n",
      "2257 2792918.0\n",
      "613 424921.0\n",
      "100 335200.0\n",
      "534 422094.0\n",
      "140 167717.0\n",
      "81 195766.0\n",
      "97 540908.0\n",
      "172 428500.0\n",
      "71 160029.0\n",
      "146 400468.0\n",
      "106 216910.0\n",
      "107 259856.0\n",
      "156 224739.0\n",
      "4 199301.0\n",
      "4 195275.0\n",
      "23 161623.0\n",
      "191 112863.0\n",
      "103 535011.0\n",
      "101 108599.0\n",
      "69 207654.0\n",
      "128 338860.0\n",
      "69 101520.0\n",
      "18 267530.0\n",
      "96951 258946.0\n",
      "1 122262.0\n",
      "1 131639.0\n",
      "989 261206.0\n",
      "1989 191972.0\n",
      "2027 116890.0\n",
      "0 121772.0\n",
      "1770 223657.0\n",
      "1966 169528.0\n",
      "140 233490.0\n",
      "2334 304022.0\n",
      "1598 139778.0\n",
      "1919 393456.0\n",
      "231 256012.0\n",
      "2202 157152.0\n",
      "2411 155723.0\n",
      "284 270178.0\n",
      "2469 666500.0\n",
      "1709 304834.0\n",
      "1692 558863.0\n",
      "992 159339.0\n",
      "759 124241.0\n",
      "356 120124.0\n",
      "163 108713.0\n",
      "193 154548.0\n",
      "1787 608348.0\n",
      "2578 112650.0\n",
      "14 1327005.0\n",
      "1338 1427069.0\n",
      "146 36965539.0\n",
      "767 9441238.0\n",
      "393281 1661809141.0\n",
      "2084 7603756.0\n",
      "155 724250.0\n",
      "1415 568665.0\n",
      "458752 3.0\n",
      "453 138746.0\n",
      "4059 1557847.0\n",
      "323 7193764.0\n",
      "231 637595544.0\n",
      "370 274488.0\n",
      "140397276 1577638216.0\n",
      "330 203977549.0\n",
      "452993419 1830432.0\n",
      "881624125 1942744055.0\n",
      "88839862 1258666036.0\n",
      "704681758 2758310.0\n",
      "774 3000575.0\n",
      "905996399 3558247.0\n",
      "183 1488278.0\n",
      "2063649350 8123276.0\n"
     ]
    }
   ],
   "source": [
    "'''\n",
    "goal is to account for counters in reverse and also counters that reset\n",
    "'''\n",
    "\n",
    "\n",
    "def get_daily_counts(row, max_counter):\n",
    "    '''\n",
    "    function compares current entries and previous entries to determine\n",
    "    if counter is in reverse and/or counter has reset\n",
    "    '''\n",
    "    counter = row[\"ENTRIES\"] - row[\"PREV_ENTRIES\"]\n",
    "    if counter < 0:\n",
    "        # Maybe counter is reversed?\n",
    "        counter = -counter\n",
    "    if counter > max_counter:\n",
    "        # Maybe counter was reset to 0?\n",
    "        print(row[\"ENTRIES\"], row[\"PREV_ENTRIES\"])\n",
    "        counter = min(row[\"ENTRIES\"], row[\"PREV_ENTRIES\"])\n",
    "    if counter > max_counter:\n",
    "        # Check it again to make sure we're not still giving a counter that's too big\n",
    "        return 0\n",
    "    return counter\n",
    "\n",
    "\n",
    "turnstiles_daily[\"DAILY_ENTRIES\"] = turnstiles_daily.apply(get_daily_counts,\n",
    "                                                           axis=1,\n",
    "                                                           max_counter=100000)"
   ]
  },
  {
   "cell_type": "code",
   "execution_count": 13,
   "metadata": {
    "ExecuteTime": {
     "end_time": "2020-07-05T22:18:04.452513Z",
     "start_time": "2020-07-05T22:18:04.407373Z"
    }
   },
   "outputs": [
    {
     "data": {
      "text/html": [
       "<div>\n",
       "<style scoped>\n",
       "    .dataframe tbody tr th:only-of-type {\n",
       "        vertical-align: middle;\n",
       "    }\n",
       "\n",
       "    .dataframe tbody tr th {\n",
       "        vertical-align: top;\n",
       "    }\n",
       "\n",
       "    .dataframe thead th {\n",
       "        text-align: right;\n",
       "    }\n",
       "</style>\n",
       "<table border=\"1\" class=\"dataframe\">\n",
       "  <thead>\n",
       "    <tr style=\"text-align: right;\">\n",
       "      <th></th>\n",
       "      <th>ENTRIES</th>\n",
       "      <th>PREV_ENTRIES</th>\n",
       "      <th>DAILY_ENTRIES</th>\n",
       "    </tr>\n",
       "  </thead>\n",
       "  <tbody>\n",
       "    <tr>\n",
       "      <th>count</th>\n",
       "      <td>1.985560e+05</td>\n",
       "      <td>1.985560e+05</td>\n",
       "      <td>198556.000000</td>\n",
       "    </tr>\n",
       "    <tr>\n",
       "      <th>mean</th>\n",
       "      <td>4.192248e+07</td>\n",
       "      <td>4.191892e+07</td>\n",
       "      <td>1092.437161</td>\n",
       "    </tr>\n",
       "    <tr>\n",
       "      <th>std</th>\n",
       "      <td>2.132230e+08</td>\n",
       "      <td>2.132214e+08</td>\n",
       "      <td>1769.807748</td>\n",
       "    </tr>\n",
       "    <tr>\n",
       "      <th>min</th>\n",
       "      <td>0.000000e+00</td>\n",
       "      <td>0.000000e+00</td>\n",
       "      <td>0.000000</td>\n",
       "    </tr>\n",
       "    <tr>\n",
       "      <th>50%</th>\n",
       "      <td>2.133655e+06</td>\n",
       "      <td>2.134218e+06</td>\n",
       "      <td>805.000000</td>\n",
       "    </tr>\n",
       "    <tr>\n",
       "      <th>75%</th>\n",
       "      <td>6.716596e+06</td>\n",
       "      <td>6.717844e+06</td>\n",
       "      <td>1575.000000</td>\n",
       "    </tr>\n",
       "    <tr>\n",
       "      <th>80%</th>\n",
       "      <td>8.366990e+06</td>\n",
       "      <td>8.366525e+06</td>\n",
       "      <td>1791.000000</td>\n",
       "    </tr>\n",
       "    <tr>\n",
       "      <th>90%</th>\n",
       "      <td>1.567692e+07</td>\n",
       "      <td>1.567400e+07</td>\n",
       "      <td>2417.000000</td>\n",
       "    </tr>\n",
       "    <tr>\n",
       "      <th>95%</th>\n",
       "      <td>1.174405e+08</td>\n",
       "      <td>1.174405e+08</td>\n",
       "      <td>2989.000000</td>\n",
       "    </tr>\n",
       "    <tr>\n",
       "      <th>96%</th>\n",
       "      <td>1.351174e+08</td>\n",
       "      <td>1.351160e+08</td>\n",
       "      <td>3172.000000</td>\n",
       "    </tr>\n",
       "    <tr>\n",
       "      <th>97%</th>\n",
       "      <td>3.319925e+08</td>\n",
       "      <td>3.319897e+08</td>\n",
       "      <td>3428.000000</td>\n",
       "    </tr>\n",
       "    <tr>\n",
       "      <th>98%</th>\n",
       "      <td>7.307714e+08</td>\n",
       "      <td>7.307702e+08</td>\n",
       "      <td>3829.900000</td>\n",
       "    </tr>\n",
       "    <tr>\n",
       "      <th>99%</th>\n",
       "      <td>1.397493e+09</td>\n",
       "      <td>1.397493e+09</td>\n",
       "      <td>4496.450000</td>\n",
       "    </tr>\n",
       "    <tr>\n",
       "      <th>max</th>\n",
       "      <td>2.129314e+09</td>\n",
       "      <td>2.129315e+09</td>\n",
       "      <td>99494.000000</td>\n",
       "    </tr>\n",
       "  </tbody>\n",
       "</table>\n",
       "</div>"
      ],
      "text/plain": [
       "            ENTRIES  PREV_ENTRIES  DAILY_ENTRIES\n",
       "count  1.985560e+05  1.985560e+05  198556.000000\n",
       "mean   4.192248e+07  4.191892e+07    1092.437161\n",
       "std    2.132230e+08  2.132214e+08    1769.807748\n",
       "min    0.000000e+00  0.000000e+00       0.000000\n",
       "50%    2.133655e+06  2.134218e+06     805.000000\n",
       "75%    6.716596e+06  6.717844e+06    1575.000000\n",
       "80%    8.366990e+06  8.366525e+06    1791.000000\n",
       "90%    1.567692e+07  1.567400e+07    2417.000000\n",
       "95%    1.174405e+08  1.174405e+08    2989.000000\n",
       "96%    1.351174e+08  1.351160e+08    3172.000000\n",
       "97%    3.319925e+08  3.319897e+08    3428.000000\n",
       "98%    7.307714e+08  7.307702e+08    3829.900000\n",
       "99%    1.397493e+09  1.397493e+09    4496.450000\n",
       "max    2.129314e+09  2.129315e+09   99494.000000"
      ]
     },
     "execution_count": 13,
     "metadata": {},
     "output_type": "execute_result"
    }
   ],
   "source": [
    "#checking upper bound of daily entries\n",
    "turnstiles_daily.describe(\n",
    "    percentiles=[.5, .75, .8, .9, .95, .96, .97, .98, .99])"
   ]
  },
  {
   "cell_type": "code",
   "execution_count": 14,
   "metadata": {
    "ExecuteTime": {
     "end_time": "2020-07-05T22:18:04.475551Z",
     "start_time": "2020-07-05T22:18:04.455311Z"
    },
    "scrolled": true
   },
   "outputs": [],
   "source": [
    "#dropping daily entries over 10000\n",
    "mask = (turnstiles_daily.DAILY_ENTRIES > 10000)\n",
    "turnstiles_daily = turnstiles_daily[~mask]"
   ]
  },
  {
   "cell_type": "code",
   "execution_count": 15,
   "metadata": {
    "ExecuteTime": {
     "end_time": "2020-07-05T22:18:04.521733Z",
     "start_time": "2020-07-05T22:18:04.477592Z"
    }
   },
   "outputs": [
    {
     "data": {
      "text/html": [
       "<div>\n",
       "<style scoped>\n",
       "    .dataframe tbody tr th:only-of-type {\n",
       "        vertical-align: middle;\n",
       "    }\n",
       "\n",
       "    .dataframe tbody tr th {\n",
       "        vertical-align: top;\n",
       "    }\n",
       "\n",
       "    .dataframe thead th {\n",
       "        text-align: right;\n",
       "    }\n",
       "</style>\n",
       "<table border=\"1\" class=\"dataframe\">\n",
       "  <thead>\n",
       "    <tr style=\"text-align: right;\">\n",
       "      <th></th>\n",
       "      <th>ENTRIES</th>\n",
       "      <th>PREV_ENTRIES</th>\n",
       "      <th>DAILY_ENTRIES</th>\n",
       "    </tr>\n",
       "  </thead>\n",
       "  <tbody>\n",
       "    <tr>\n",
       "      <th>count</th>\n",
       "      <td>1.983690e+05</td>\n",
       "      <td>1.983690e+05</td>\n",
       "      <td>198369.000000</td>\n",
       "    </tr>\n",
       "    <tr>\n",
       "      <th>mean</th>\n",
       "      <td>4.194951e+07</td>\n",
       "      <td>4.194592e+07</td>\n",
       "      <td>1055.954252</td>\n",
       "    </tr>\n",
       "    <tr>\n",
       "      <th>std</th>\n",
       "      <td>2.133001e+08</td>\n",
       "      <td>2.132985e+08</td>\n",
       "      <td>1016.576936</td>\n",
       "    </tr>\n",
       "    <tr>\n",
       "      <th>min</th>\n",
       "      <td>0.000000e+00</td>\n",
       "      <td>0.000000e+00</td>\n",
       "      <td>0.000000</td>\n",
       "    </tr>\n",
       "    <tr>\n",
       "      <th>50%</th>\n",
       "      <td>2.137689e+06</td>\n",
       "      <td>2.138338e+06</td>\n",
       "      <td>804.000000</td>\n",
       "    </tr>\n",
       "    <tr>\n",
       "      <th>97%</th>\n",
       "      <td>3.319995e+08</td>\n",
       "      <td>3.319970e+08</td>\n",
       "      <td>3399.000000</td>\n",
       "    </tr>\n",
       "    <tr>\n",
       "      <th>98%</th>\n",
       "      <td>7.307730e+08</td>\n",
       "      <td>7.307719e+08</td>\n",
       "      <td>3787.000000</td>\n",
       "    </tr>\n",
       "    <tr>\n",
       "      <th>99%</th>\n",
       "      <td>1.397500e+09</td>\n",
       "      <td>1.397500e+09</td>\n",
       "      <td>4400.320000</td>\n",
       "    </tr>\n",
       "    <tr>\n",
       "      <th>99.1%</th>\n",
       "      <td>1.442696e+09</td>\n",
       "      <td>1.442704e+09</td>\n",
       "      <td>4504.688000</td>\n",
       "    </tr>\n",
       "    <tr>\n",
       "      <th>99.2%</th>\n",
       "      <td>1.556082e+09</td>\n",
       "      <td>1.556087e+09</td>\n",
       "      <td>4610.000000</td>\n",
       "    </tr>\n",
       "    <tr>\n",
       "      <th>99.7%</th>\n",
       "      <td>1.928604e+09</td>\n",
       "      <td>1.928604e+09</td>\n",
       "      <td>5450.896000</td>\n",
       "    </tr>\n",
       "    <tr>\n",
       "      <th>max</th>\n",
       "      <td>2.129314e+09</td>\n",
       "      <td>2.129315e+09</td>\n",
       "      <td>9978.000000</td>\n",
       "    </tr>\n",
       "  </tbody>\n",
       "</table>\n",
       "</div>"
      ],
      "text/plain": [
       "            ENTRIES  PREV_ENTRIES  DAILY_ENTRIES\n",
       "count  1.983690e+05  1.983690e+05  198369.000000\n",
       "mean   4.194951e+07  4.194592e+07    1055.954252\n",
       "std    2.133001e+08  2.132985e+08    1016.576936\n",
       "min    0.000000e+00  0.000000e+00       0.000000\n",
       "50%    2.137689e+06  2.138338e+06     804.000000\n",
       "97%    3.319995e+08  3.319970e+08    3399.000000\n",
       "98%    7.307730e+08  7.307719e+08    3787.000000\n",
       "99%    1.397500e+09  1.397500e+09    4400.320000\n",
       "99.1%  1.442696e+09  1.442704e+09    4504.688000\n",
       "99.2%  1.556082e+09  1.556087e+09    4610.000000\n",
       "99.7%  1.928604e+09  1.928604e+09    5450.896000\n",
       "max    2.129314e+09  2.129315e+09    9978.000000"
      ]
     },
     "execution_count": 15,
     "metadata": {},
     "output_type": "execute_result"
    }
   ],
   "source": [
    "#checking upper bound of daily entries again and realizing it's still too high\n",
    "turnstiles_daily.describe(percentiles=[.97, .98, .99, .991, .992, .997])"
   ]
  },
  {
   "cell_type": "code",
   "execution_count": 16,
   "metadata": {
    "ExecuteTime": {
     "end_time": "2020-07-05T22:18:04.545176Z",
     "start_time": "2020-07-05T22:18:04.524860Z"
    }
   },
   "outputs": [],
   "source": [
    "#dropping daily entries over 6000\n",
    "#   meaning people are going through the turnstile every other second\n",
    "#   this is still generous\n",
    "mask2 = (turnstiles_daily.DAILY_ENTRIES > 6000)\n",
    "turnstiles_daily = turnstiles_daily[~mask2]"
   ]
  },
  {
   "cell_type": "code",
   "execution_count": 17,
   "metadata": {
    "ExecuteTime": {
     "end_time": "2020-07-05T22:18:04.553518Z",
     "start_time": "2020-07-05T22:18:04.547135Z"
    }
   },
   "outputs": [],
   "source": [
    "turnstiles_daily.DAILY_ENTRIES = turnstiles_daily.DAILY_ENTRIES.astype(int)"
   ]
  },
  {
   "cell_type": "code",
   "execution_count": 18,
   "metadata": {
    "ExecuteTime": {
     "end_time": "2020-07-05T22:18:04.571510Z",
     "start_time": "2020-07-05T22:18:04.556781Z"
    }
   },
   "outputs": [
    {
     "data": {
      "text/plain": [
       "count    198047.000000\n",
       "mean       1045.580615\n",
       "std         983.224000\n",
       "min           0.000000\n",
       "25%         269.000000\n",
       "50%         802.000000\n",
       "75%        1567.000000\n",
       "max        5991.000000\n",
       "Name: DAILY_ENTRIES, dtype: float64"
      ]
     },
     "execution_count": 18,
     "metadata": {},
     "output_type": "execute_result"
    }
   ],
   "source": [
    "turnstiles_daily.DAILY_ENTRIES.describe()"
   ]
  },
  {
   "cell_type": "code",
   "execution_count": 19,
   "metadata": {
    "ExecuteTime": {
     "end_time": "2020-07-05T22:18:04.597561Z",
     "start_time": "2020-07-05T22:18:04.574299Z"
    }
   },
   "outputs": [
    {
     "data": {
      "text/plain": [
       "STATION\n",
       "34 ST-PENN STA     6095697\n",
       "34 ST-HERALD SQ    4531066\n",
       "23 ST              4113105\n",
       "42 ST-PORT AUTH    3879506\n",
       "TIMES SQ-42 ST     3742222\n",
       "                    ...   \n",
       "BEACH 44 ST          25455\n",
       "BEACH 98 ST          20546\n",
       "BROAD CHANNEL        11566\n",
       "BEACH 105 ST         11532\n",
       "ORCHARD BEACH         1060\n",
       "Name: DAILY_ENTRIES, Length: 378, dtype: int64"
      ]
     },
     "execution_count": 19,
     "metadata": {},
     "output_type": "execute_result"
    }
   ],
   "source": [
    "turnstiles_daily.groupby(['STATION'\n",
    "                          ]).DAILY_ENTRIES.sum().sort_values(ascending=False)"
   ]
  },
  {
   "cell_type": "markdown",
   "metadata": {},
   "source": [
    "# Fine-Tuning and Plotting the Data"
   ]
  },
  {
   "cell_type": "code",
   "execution_count": 20,
   "metadata": {
    "ExecuteTime": {
     "end_time": "2020-07-05T22:18:04.665966Z",
     "start_time": "2020-07-05T22:18:04.601415Z"
    }
   },
   "outputs": [],
   "source": [
    "#adding day of week and week number columns\n",
    "turnstiles_daily['DATE'] = pd.to_datetime(turnstiles_daily['DATE'])\n",
    "turnstiles_daily['DAY'] = turnstiles_daily['DATE'].dt.dayofweek\n",
    "turnstiles_daily['DATE'].dt.week\n",
    "turnstiles_daily['WEEK_NUMBER'] = turnstiles_daily['DATE'].dt.week"
   ]
  },
  {
   "cell_type": "markdown",
   "metadata": {},
   "source": [
    "## Plotting by Total Traffic Volume"
   ]
  },
  {
   "cell_type": "code",
   "execution_count": 21,
   "metadata": {
    "ExecuteTime": {
     "end_time": "2020-07-05T22:18:05.891802Z",
     "start_time": "2020-07-05T22:18:04.668857Z"
    }
   },
   "outputs": [],
   "source": [
    "import matplotlib.pyplot as plt\n",
    "import numpy as np\n",
    "import seaborn as sns\n",
    "%matplotlib inline\n",
    "sns.set(style='white', palette='colorblind')"
   ]
  },
  {
   "cell_type": "code",
   "execution_count": 22,
   "metadata": {
    "ExecuteTime": {
     "end_time": "2020-07-05T22:18:05.956658Z",
     "start_time": "2020-07-05T22:18:05.908043Z"
    }
   },
   "outputs": [],
   "source": [
    "#grouping stations by total daily entries\n",
    "stations = turnstiles_daily.groupby(['STATION', 'DATE'\n",
    "                                     ]).DAILY_ENTRIES.sum().reset_index()"
   ]
  },
  {
   "cell_type": "code",
   "execution_count": 23,
   "metadata": {
    "ExecuteTime": {
     "end_time": "2020-07-05T22:18:05.967846Z",
     "start_time": "2020-07-05T22:18:05.959882Z"
    }
   },
   "outputs": [],
   "source": [
    "riders_perstation = stations.groupby(['STATION']).DAILY_ENTRIES.sum()\n",
    "sorted_riders_perstation = riders_perstation.sort_values(ascending=False)"
   ]
  },
  {
   "cell_type": "code",
   "execution_count": 24,
   "metadata": {
    "ExecuteTime": {
     "end_time": "2020-07-05T22:18:06.678130Z",
     "start_time": "2020-07-05T22:18:05.970655Z"
    },
    "scrolled": true
   },
   "outputs": [
    {
     "data": {
      "image/png": "[encoded data removed]",
      "text/plain": [
       "<Figure size 432x288 with 1 Axes>"
      ]
     },
     "metadata": {},
     "output_type": "display_data"
    }
   ],
   "source": [
    "#bar plot data for top 5 stations in Manhattan\n",
    "manha_top_totals = sorted_riders_perstation.head(5)\n",
    "man = manha_top_totals.reset_index()\n",
    "ax = sns.barplot(x=\"DAILY_ENTRIES\", y=\"STATION\", data=man)\n",
    "\n",
    "plt.xticks(fontsize=10)\n",
    "plt.yticks(fontsize=10)\n",
    "plt.xlabel('Total Entry', fontsize=13)\n",
    "plt.ylabel('Station', fontsize=13)\n",
    "plt.title('Top 5 Stations in Manhattan by Volume', fontsize=15, weight='bold')\n",
    "sns.despine()\n",
    "plt.tight_layout()\n",
    "plt.savefig('Manhattan_Volume.png', dpi=600)"
   ]
  },
  {
   "cell_type": "code",
   "execution_count": 25,
   "metadata": {
    "ExecuteTime": {
     "end_time": "2020-07-05T22:18:07.408983Z",
     "start_time": "2020-07-05T22:18:06.680420Z"
    }
   },
   "outputs": [
    {
     "data": {
      "image/png": "[encoded data removed]",
      "text/plain": [
       "<Figure size 432x288 with 1 Axes>"
      ]
     },
     "metadata": {},
     "output_type": "display_data"
    }
   ],
   "source": [
    "#bar plot data for top 5 stations in Brooklyn\n",
    "top_5_brook_stations = [\n",
    "    '59 ST', 'ATL AV-BARCLAY', 'JAY ST-METROTEC', 'CHURCH AV', 'BOROUGH HALL'\n",
    "]\n",
    "sorted_stations_total = sorted_riders_perstation.reset_index()\n",
    "filt = sorted_stations_total['STATION'].isin(top_5_brook_stations)\n",
    "brook_top_totals = sorted_stations_total[filt]\n",
    "brook = brook_top_totals.reset_index()\n",
    "ax = sns.barplot(x=\"DAILY_ENTRIES\", y=\"STATION\", data=brook)\n",
    "\n",
    "plt.xticks(fontsize=10)\n",
    "plt.yticks(fontsize=10)\n",
    "plt.xlabel('Total Entry', fontsize=13)\n",
    "plt.ylabel('Station', fontsize=13)\n",
    "plt.title('Top 5 Stations in Brooklyn by Volume', fontsize=15, weight='bold')\n",
    "sns.despine()\n",
    "plt.tight_layout()\n",
    "plt.savefig('Brooklyn_Volume.png', dpi=600)"
   ]
  },
  {
   "cell_type": "markdown",
   "metadata": {},
   "source": [
    "## Plotting by Day of Week"
   ]
  },
  {
   "cell_type": "code",
   "execution_count": 26,
   "metadata": {
    "ExecuteTime": {
     "end_time": "2020-07-05T22:18:07.437174Z",
     "start_time": "2020-07-05T22:18:07.411320Z"
    }
   },
   "outputs": [],
   "source": [
    "#filters for top manhattan stations for unstacked bar plot\n",
    "filt = (turnstiles_daily['STATION'] == '34 ST-PENN STA')\n",
    "station_penn = turnstiles_daily[filt]\n",
    "station_penn_day = station_penn.groupby(['STATION', 'DAY'\n",
    "                                         ]).DAILY_ENTRIES.sum().reset_index()\n",
    "station_penn_list = []\n",
    "for elem in station_penn_day['DAILY_ENTRIES']:\n",
    "    station_penn_list.append(elem)"
   ]
  },
  {
   "cell_type": "code",
   "execution_count": 27,
   "metadata": {
    "ExecuteTime": {
     "end_time": "2020-07-05T22:18:07.462823Z",
     "start_time": "2020-07-05T22:18:07.439589Z"
    }
   },
   "outputs": [],
   "source": [
    "filt2 = (turnstiles_daily['STATION'] == '34 ST-HERALD SQ')\n",
    "station_herald = turnstiles_daily[filt2]\n",
    "station_herald_day = station_herald.groupby(\n",
    "    ['STATION', 'DAY']).DAILY_ENTRIES.sum().reset_index()\n",
    "station_herald_list = []\n",
    "for elem in station_herald_day['DAILY_ENTRIES']:\n",
    "    station_herald_list.append(elem)"
   ]
  },
  {
   "cell_type": "code",
   "execution_count": 28,
   "metadata": {
    "ExecuteTime": {
     "end_time": "2020-07-05T22:18:07.488568Z",
     "start_time": "2020-07-05T22:18:07.465164Z"
    }
   },
   "outputs": [],
   "source": [
    "filt3 = (turnstiles_daily['STATION'] == '23 ST')\n",
    "station_23 = turnstiles_daily[filt3]\n",
    "station_23_day = station_23.groupby(['STATION',\n",
    "                                     'DAY']).DAILY_ENTRIES.sum().reset_index()\n",
    "station_23_list = []\n",
    "for elem in station_23_day['DAILY_ENTRIES']:\n",
    "    station_23_list.append(elem)"
   ]
  },
  {
   "cell_type": "code",
   "execution_count": 29,
   "metadata": {
    "ExecuteTime": {
     "end_time": "2020-07-05T22:18:07.512454Z",
     "start_time": "2020-07-05T22:18:07.490908Z"
    }
   },
   "outputs": [],
   "source": [
    "filt4 = (turnstiles_daily['STATION'] == '42 ST-PORT AUTH')\n",
    "station_port = turnstiles_daily[filt4]\n",
    "station_port_day = station_port.groupby(['STATION', 'DAY'\n",
    "                                         ]).DAILY_ENTRIES.sum().reset_index()\n",
    "station_port_list = []\n",
    "for elem in station_port_day['DAILY_ENTRIES']:\n",
    "    station_port_list.append(elem)"
   ]
  },
  {
   "cell_type": "code",
   "execution_count": 30,
   "metadata": {
    "ExecuteTime": {
     "end_time": "2020-07-05T22:18:07.542324Z",
     "start_time": "2020-07-05T22:18:07.514517Z"
    }
   },
   "outputs": [],
   "source": [
    "filt5 = (turnstiles_daily['STATION'] == 'TIMES SQ-42 ST')\n",
    "station_times = turnstiles_daily[filt5]\n",
    "station_times_day = station_times.groupby(\n",
    "    ['STATION', 'DAY']).DAILY_ENTRIES.sum().reset_index()\n",
    "station_times_list = []\n",
    "for elem in station_times_day['DAILY_ENTRIES']:\n",
    "    station_times_list.append(elem)"
   ]
  },
  {
   "cell_type": "code",
   "execution_count": 31,
   "metadata": {
    "ExecuteTime": {
     "end_time": "2020-07-05T22:18:08.317537Z",
     "start_time": "2020-07-05T22:18:07.544689Z"
    }
   },
   "outputs": [
    {
     "data": {
      "image/png": "[encoded data removed]",
      "text/plain": [
       "<Figure size 432x288 with 1 Axes>"
      ]
     },
     "metadata": {},
     "output_type": "display_data"
    }
   ],
   "source": [
    "#manhattan bar plot\n",
    "plotdata = pd.DataFrame(\n",
    "    {\n",
    "        \"34 ST-PENN STA\": station_penn_list,\n",
    "        \"34 ST-HERALD SQ\": station_herald_list,\n",
    "        \"23 ST\": station_23_list,\n",
    "        \"42 ST-PORT AUTH\": station_port_list,\n",
    "        \"TIMES SQ-42 ST\": station_times_list\n",
    "    },\n",
    "    index=[\n",
    "        \"Monday\", 'Tuesday', 'Wednesday', 'Thursday', 'Friday', 'Saturday',\n",
    "        'Sunday'\n",
    "    ])\n",
    "\n",
    "plotdata.plot(kind=\"bar\", width=.85)\n",
    "plt.xticks(fontsize=10, rotation=45)\n",
    "plt.yticks(fontsize=10)\n",
    "plt.xlabel('Day of Week', fontsize=13)\n",
    "plt.ylabel('Total Entry', fontsize=13)\n",
    "plt.title('Traffic in Manhattan by Day', fontsize=15, weight='bold')\n",
    "plt.legend(loc='upper right', prop={'size': 7}, fancybox=True, title='Station')\n",
    "plt.tight_layout()\n",
    "sns.despine()\n",
    "\n",
    "#line graph for average across stations per day\n",
    "plotdata['mean'] = plotdata.mean(axis=1)\n",
    "mean_list = []\n",
    "for elem in plotdata['mean']:\n",
    "    mean_list.append(elem)\n",
    "plt.plot(mean_list, 'k')\n",
    "\n",
    "# manhattan top 5 stations by volume\n",
    "# 1. 34 ST-PENN STA\n",
    "# 2. 34 ST-HERALD SQ\n",
    "# 3. 23 ST\n",
    "# 4. 42 ST-PORT AUTH\n",
    "# 5. TIMES SQ-42 ST\n",
    "\n",
    "plt.savefig('Manhattan_Weekly.png', dpi=600)"
   ]
  },
  {
   "cell_type": "code",
   "execution_count": 32,
   "metadata": {
    "ExecuteTime": {
     "end_time": "2020-07-05T22:18:08.343659Z",
     "start_time": "2020-07-05T22:18:08.320368Z"
    }
   },
   "outputs": [],
   "source": [
    "#filters for top brooklyn stations for unstacked bar plot\n",
    "filt6 = (turnstiles_daily['STATION'] == '59 ST')\n",
    "station_59 = turnstiles_daily[filt6]\n",
    "station_59_day = station_59.groupby(['STATION',\n",
    "                                     'DAY']).DAILY_ENTRIES.sum().reset_index()\n",
    "station_59_list = []\n",
    "for elem in station_59_day['DAILY_ENTRIES']:\n",
    "    station_59_list.append(elem)"
   ]
  },
  {
   "cell_type": "code",
   "execution_count": 33,
   "metadata": {
    "ExecuteTime": {
     "end_time": "2020-07-05T22:18:08.370573Z",
     "start_time": "2020-07-05T22:18:08.345985Z"
    }
   },
   "outputs": [],
   "source": [
    "filt7 = (turnstiles_daily['STATION'] == 'ATL AV-BARCLAY')\n",
    "station_atl = turnstiles_daily[filt7]\n",
    "station_atl_day = station_atl.groupby(['STATION', 'DAY'\n",
    "                                       ]).DAILY_ENTRIES.sum().reset_index()\n",
    "station_atl_list = []\n",
    "for elem in station_atl_day['DAILY_ENTRIES']:\n",
    "    station_atl_list.append(elem)"
   ]
  },
  {
   "cell_type": "code",
   "execution_count": 34,
   "metadata": {
    "ExecuteTime": {
     "end_time": "2020-07-05T22:18:08.396991Z",
     "start_time": "2020-07-05T22:18:08.373592Z"
    }
   },
   "outputs": [],
   "source": [
    "filt8 = (turnstiles_daily['STATION'] == 'JAY ST-METROTEC')\n",
    "station_jay = turnstiles_daily[filt8]\n",
    "station_jay_day = station_jay.groupby(['STATION', 'DAY'\n",
    "                                       ]).DAILY_ENTRIES.sum().reset_index()\n",
    "station_jay_list = []\n",
    "for elem in station_jay_day['DAILY_ENTRIES']:\n",
    "    station_jay_list.append(elem)"
   ]
  },
  {
   "cell_type": "code",
   "execution_count": 35,
   "metadata": {
    "ExecuteTime": {
     "end_time": "2020-07-05T22:18:08.425026Z",
     "start_time": "2020-07-05T22:18:08.399498Z"
    }
   },
   "outputs": [],
   "source": [
    "filt9 = (turnstiles_daily['STATION'] == 'CHURCH AV')\n",
    "station_church = turnstiles_daily[filt9]\n",
    "station_church_day = station_church.groupby(\n",
    "    ['STATION', 'DAY']).DAILY_ENTRIES.sum().reset_index()\n",
    "station_church_list = []\n",
    "for elem in station_church_day['DAILY_ENTRIES']:\n",
    "    station_church_list.append(elem)"
   ]
  },
  {
   "cell_type": "code",
   "execution_count": 36,
   "metadata": {
    "ExecuteTime": {
     "end_time": "2020-07-05T22:18:08.448792Z",
     "start_time": "2020-07-05T22:18:08.427394Z"
    }
   },
   "outputs": [],
   "source": [
    "filt10 = (turnstiles_daily['STATION'] == 'BOROUGH HALL')\n",
    "station_borough = turnstiles_daily[filt10]\n",
    "station_borough_day = station_borough.groupby(\n",
    "    ['STATION', 'DAY']).DAILY_ENTRIES.sum().reset_index()\n",
    "station_borough_list = []\n",
    "for elem in station_borough_day['DAILY_ENTRIES']:\n",
    "    station_borough_list.append(elem)"
   ]
  },
  {
   "cell_type": "code",
   "execution_count": 37,
   "metadata": {
    "ExecuteTime": {
     "end_time": "2020-07-05T22:18:09.175736Z",
     "start_time": "2020-07-05T22:18:08.451052Z"
    }
   },
   "outputs": [
    {
     "data": {
      "image/png": "[encoded data removed]",
      "text/plain": [
       "<Figure size 432x288 with 1 Axes>"
      ]
     },
     "metadata": {},
     "output_type": "display_data"
    }
   ],
   "source": [
    "#brooklyn bar plt\n",
    "plotdata2 = pd.DataFrame(\n",
    "    {\n",
    "        \"59 ST\": station_59_list,\n",
    "        \"ATL AV-BARCLAY\": station_atl_list,\n",
    "        \"JAY ST-METROTEC\": station_jay_list,\n",
    "        \"CHURCH AV\": station_church_list,\n",
    "        \"BOROUGH HALL\": station_borough_list\n",
    "    },\n",
    "    index=[\n",
    "        \"Monday\", 'Tuesday', 'Wednesday', 'Thursday', 'Friday', 'Saturday',\n",
    "        'Sunday'\n",
    "    ])\n",
    "\n",
    "plotdata2.plot(kind=\"bar\", width=.85)\n",
    "plt.xticks(fontsize=10, rotation=45)\n",
    "plt.yticks(fontsize=10)\n",
    "plt.xlabel('Day of Week', fontsize=13)\n",
    "plt.ylabel('Total Entry', fontsize=13)\n",
    "plt.title('Traffic in Brooklyn by Day', fontsize=15, weight='bold')\n",
    "plt.legend(loc='upper right', prop={'size': 7}, fancybox=True, title='Station')\n",
    "sns.despine()\n",
    "plt.tight_layout()\n",
    "\n",
    "#line graph for average across stations per day\n",
    "plotdata2['mean'] = plotdata2.mean(axis=1)\n",
    "mean_list = []\n",
    "for elem in plotdata2['mean']:\n",
    "    mean_list.append(elem)\n",
    "plt.plot(mean_list, 'k')\n",
    "\n",
    "# brooklyn top 5 stations by volume\n",
    "# 1. 59 ST\n",
    "# 2. ATL AV-BARCLAY\n",
    "# 3. JAY ST-METROTEC\n",
    "# 4. CHURCH AV\n",
    "# 5. BOROUGH HALL\n",
    "\n",
    "plt.savefig('Brooklyn_Weekly.png', dpi=600)"
   ]
  },
  {
   "cell_type": "markdown",
   "metadata": {},
   "source": [
    "## Plotting by Distribution of Total Weekly Entries"
   ]
  },
  {
   "cell_type": "code",
   "execution_count": 38,
   "metadata": {
    "ExecuteTime": {
     "end_time": "2020-07-05T22:18:09.446973Z",
     "start_time": "2020-07-05T22:18:09.177952Z"
    }
   },
   "outputs": [
    {
     "data": {
      "image/png": "[encoded data removed]",
      "text/plain": [
       "<Figure size 504x360 with 1 Axes>"
      ]
     },
     "metadata": {},
     "output_type": "display_data"
    }
   ],
   "source": [
    "#UNUSED\n",
    "#data for top 5 stations by volume in Manhattan\n",
    "stations = turnstiles_daily.groupby(['STATION', 'DATE'\n",
    "                                     ]).DAILY_ENTRIES.sum().reset_index()\n",
    "top_5_manha_stations = (stations.groupby(\n",
    "    ['STATION'])['DAILY_ENTRIES'].sum().reset_index().sort_values(\n",
    "        by='DAILY_ENTRIES', ascending=False).STATION.head(5))\n",
    "distribution_top_5_manha_stations = stations[stations['STATION'].isin(\n",
    "    top_5_manha_stations)]\n",
    "\n",
    "#boxplot for top 5 stations by volume in Manhattan\n",
    "plt.figure(figsize=(7, 5))\n",
    "b = sns.boxplot('STATION',\n",
    "                'DAILY_ENTRIES',\n",
    "                data=distribution_top_5_manha_stations,\n",
    "                width=0.5,\n",
    "                linewidth=0.7,\n",
    "                palette='deep',\n",
    "                order=[\n",
    "                    \"34 ST-PENN STA\", \"34 ST-HERALD SQ\", \"23 ST\",\n",
    "                    '42 ST-PORT AUTH', 'TIMES SQ-42 ST'\n",
    "                ])\n",
    "b.set_ylabel('Total Weekly Entries', fontsize=13)\n",
    "b.set_xlabel('Station', fontsize=13)\n",
    "b.axes.set_title('Top 5 Manhattan Stations by Volume',\n",
    "                 fontsize=15,\n",
    "                 weight='bold')\n",
    "b.set_xticklabels(b.get_xticklabels(), rotation=45)\n",
    "sns.despine()\n",
    "plt.tight_layout()\n",
    "\n",
    "# manhattan top 5 stations by volume\n",
    "# 1. 34 ST-PENN STA\n",
    "# 2. 34 ST-HERALD SQ\n",
    "# 3. 23 ST\n",
    "# 4. 42 ST-PORT AUTH\n",
    "# 5. TIMES SQ-42 ST\n",
    "\n",
    "# plt.savefig('Manhattan_Volume_Dist.png', dpi=1200)"
   ]
  },
  {
   "cell_type": "code",
   "execution_count": 39,
   "metadata": {
    "ExecuteTime": {
     "end_time": "2020-07-05T22:18:09.659412Z",
     "start_time": "2020-07-05T22:18:09.449421Z"
    }
   },
   "outputs": [
    {
     "data": {
      "image/png": "[encoded data removed]",
      "text/plain": [
       "<Figure size 504x360 with 1 Axes>"
      ]
     },
     "metadata": {},
     "output_type": "display_data"
    }
   ],
   "source": [
    "#UNUSED\n",
    "#data for top 5 stations by volume in Brooklyn\n",
    "top_5_brook_stations = [\n",
    "    '59 ST', 'ATL AV-BARCLAY', 'JAY ST-METROTEC', 'CHURCH AV', 'BOROUGH HALL'\n",
    "]\n",
    "distribution_top_5_brook_stations = stations[stations['STATION'].isin(\n",
    "    top_5_brook_stations)]\n",
    "\n",
    "#boxplot for top 5 stations by volume in Brooklyn\n",
    "plt.figure(figsize=(7, 5))\n",
    "b = sns.boxplot('STATION',\n",
    "                'DAILY_ENTRIES',\n",
    "                data=distribution_top_5_brook_stations,\n",
    "                width=0.5,\n",
    "                linewidth=0.7,\n",
    "                palette='deep',\n",
    "                order=[\n",
    "                    '59 ST', 'ATL AV-BARCLAY', 'JAY ST-METROTEC', 'CHURCH AV',\n",
    "                    'BOROUGH HALL'\n",
    "                ])\n",
    "b.set_ylabel('Total Weekly Entries', fontsize=13)\n",
    "b.set_xlabel('Station', fontsize=13)\n",
    "b.axes.set_title('Top 5 Brooklyn Stations by Volume',\n",
    "                 fontsize=15,\n",
    "                 weight='bold')\n",
    "b.set_xticklabels(b.get_xticklabels(), rotation=45)\n",
    "sns.despine()\n",
    "plt.tight_layout()\n",
    "\n",
    "# brooklyn top 5 stations by volume\n",
    "# 1. 59 ST\n",
    "# 2. ATL AV-BARCLAY\n",
    "# 3. JAY ST-METROTEC\n",
    "# 4. CHURCH AV\n",
    "# 5. BOROUGH HALL\n",
    "\n",
    "# plt.savefig('Brooklyn_Volume_Dist.png', dpi=1200)"
   ]
  },
  {
   "cell_type": "code",
   "execution_count": null,
   "metadata": {},
   "outputs": [],
   "source": []
  }
 ],
 "metadata": {
  "kernelspec": {
   "display_name": "Python 3",
   "language": "python",
   "name": "python3"
  },
  "language_info": {
   "codemirror_mode": {
    "name": "ipython",
    "version": 3
   },
   "file_extension": ".py",
   "mimetype": "text/x-python",
   "name": "python",
   "nbconvert_exporter": "python",
   "pygments_lexer": "ipython3",
   "version": "3.7.7"
  },
  "toc": {
   "base_numbering": 1,
   "nav_menu": {},
   "number_sections": true,
   "sideBar": true,
   "skip_h1_title": false,
   "title_cell": "Table of Contents",
   "title_sidebar": "Contents",
   "toc_cell": false,
   "toc_position": {},
   "toc_section_display": true,
   "toc_window_display": true
  }
 },
 "nbformat": 4,
 "nbformat_minor": 4
}
