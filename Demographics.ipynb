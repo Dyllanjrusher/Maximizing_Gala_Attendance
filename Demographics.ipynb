{
 "cells": [
  {
   "cell_type": "code",
   "execution_count": 1,
   "metadata": {},
   "outputs": [],
   "source": [
    "import pandas as pd\n",
    "import seaborn as sns\n",
    "import matplotlib.pyplot as plt\n",
    "import os"
   ]
  },
  {
   "cell_type": "code",
   "execution_count": 54,
   "metadata": {},
   "outputs": [],
   "source": [
    "sns.set(style='white', palette='colorblind')"
   ]
  },
  {
   "cell_type": "code",
   "execution_count": 82,
   "metadata": {},
   "outputs": [
    {
     "data": {
      "text/html": [
       "<div>\n",
       "<style scoped>\n",
       "    .dataframe tbody tr th:only-of-type {\n",
       "        vertical-align: middle;\n",
       "    }\n",
       "\n",
       "    .dataframe tbody tr th {\n",
       "        vertical-align: top;\n",
       "    }\n",
       "\n",
       "    .dataframe thead th {\n",
       "        text-align: right;\n",
       "    }\n",
       "</style>\n",
       "<table border=\"1\" class=\"dataframe\">\n",
       "  <thead>\n",
       "    <tr style=\"text-align: right;\">\n",
       "      <th></th>\n",
       "      <th>Fact Note</th>\n",
       "      <th>Kings County (Brooklyn Borough), New York</th>\n",
       "      <th>Value Note for Kings County (Brooklyn Borough), New York</th>\n",
       "      <th>Queens County (Queens Borough), New York</th>\n",
       "      <th>Value Note for Queens County (Queens Borough), New York</th>\n",
       "      <th>Richmond County (Staten Island Borough), New York</th>\n",
       "      <th>Value Note for Richmond County (Staten Island Borough), New York</th>\n",
       "      <th>New York County (Manhattan Borough), New York</th>\n",
       "      <th>Value Note for New York County (Manhattan Borough), New York</th>\n",
       "      <th>Bronx County (Bronx Borough), New York</th>\n",
       "      <th>Value Note for Bronx County (Bronx Borough), New York</th>\n",
       "      <th>New York city, New York</th>\n",
       "      <th>Value Note for New York city, New York</th>\n",
       "    </tr>\n",
       "    <tr>\n",
       "      <th>Fact</th>\n",
       "      <th></th>\n",
       "      <th></th>\n",
       "      <th></th>\n",
       "      <th></th>\n",
       "      <th></th>\n",
       "      <th></th>\n",
       "      <th></th>\n",
       "      <th></th>\n",
       "      <th></th>\n",
       "      <th></th>\n",
       "      <th></th>\n",
       "      <th></th>\n",
       "      <th></th>\n",
       "    </tr>\n",
       "  </thead>\n",
       "  <tbody>\n",
       "    <tr>\n",
       "      <th>Population estimates, July 1, 2019,  (V2019)</th>\n",
       "      <td>NaN</td>\n",
       "      <td>2,559,903</td>\n",
       "      <td>NaN</td>\n",
       "      <td>2,253,858</td>\n",
       "      <td>NaN</td>\n",
       "      <td>476,143</td>\n",
       "      <td>NaN</td>\n",
       "      <td>1,628,706</td>\n",
       "      <td>NaN</td>\n",
       "      <td>1,418,207</td>\n",
       "      <td>NaN</td>\n",
       "      <td>8,336,817</td>\n",
       "      <td>NaN</td>\n",
       "    </tr>\n",
       "    <tr>\n",
       "      <th>Population estimates base, April 1, 2010,  (V2019)</th>\n",
       "      <td>NaN</td>\n",
       "      <td>2,504,721</td>\n",
       "      <td>NaN</td>\n",
       "      <td>2,230,619</td>\n",
       "      <td>NaN</td>\n",
       "      <td>468,730</td>\n",
       "      <td>NaN</td>\n",
       "      <td>1,586,381</td>\n",
       "      <td>NaN</td>\n",
       "      <td>1,384,580</td>\n",
       "      <td>NaN</td>\n",
       "      <td>8,175,031</td>\n",
       "      <td>NaN</td>\n",
       "    </tr>\n",
       "    <tr>\n",
       "      <th>Population, percent change - April 1, 2010 (estimates base) to July 1, 2019,  (V2019)</th>\n",
       "      <td>NaN</td>\n",
       "      <td>2.2%</td>\n",
       "      <td>NaN</td>\n",
       "      <td>1.0%</td>\n",
       "      <td>NaN</td>\n",
       "      <td>1.6%</td>\n",
       "      <td>NaN</td>\n",
       "      <td>2.7%</td>\n",
       "      <td>NaN</td>\n",
       "      <td>2.4%</td>\n",
       "      <td>NaN</td>\n",
       "      <td>2.0%</td>\n",
       "      <td>NaN</td>\n",
       "    </tr>\n",
       "    <tr>\n",
       "      <th>Population, Census, April 1, 2010</th>\n",
       "      <td>NaN</td>\n",
       "      <td>2,504,700</td>\n",
       "      <td>NaN</td>\n",
       "      <td>2,230,722</td>\n",
       "      <td>NaN</td>\n",
       "      <td>468,730</td>\n",
       "      <td>NaN</td>\n",
       "      <td>1,585,873</td>\n",
       "      <td>NaN</td>\n",
       "      <td>1,385,108</td>\n",
       "      <td>NaN</td>\n",
       "      <td>8,175,133</td>\n",
       "      <td>NaN</td>\n",
       "    </tr>\n",
       "    <tr>\n",
       "      <th>Persons under 5 years, percent</th>\n",
       "      <td>NaN</td>\n",
       "      <td>7.1%</td>\n",
       "      <td>NaN</td>\n",
       "      <td>6.1%</td>\n",
       "      <td>NaN</td>\n",
       "      <td>5.7%</td>\n",
       "      <td>NaN</td>\n",
       "      <td>4.7%</td>\n",
       "      <td>NaN</td>\n",
       "      <td>7.1%</td>\n",
       "      <td>NaN</td>\n",
       "      <td>6.5%</td>\n",
       "      <td>NaN</td>\n",
       "    </tr>\n",
       "  </tbody>\n",
       "</table>\n",
       "</div>"
      ],
      "text/plain": [
       "                                                   Fact Note  \\\n",
       "Fact                                                           \n",
       "Population estimates, July 1, 2019,  (V2019)             NaN   \n",
       "Population estimates base, April 1, 2010,  (V2019)       NaN   \n",
       "Population, percent change - April 1, 2010 (est...       NaN   \n",
       "Population, Census, April 1, 2010                        NaN   \n",
       "Persons under 5 years, percent                           NaN   \n",
       "\n",
       "                                                   Kings County (Brooklyn Borough), New York  \\\n",
       "Fact                                                                                           \n",
       "Population estimates, July 1, 2019,  (V2019)                                       2,559,903   \n",
       "Population estimates base, April 1, 2010,  (V2019)                                 2,504,721   \n",
       "Population, percent change - April 1, 2010 (est...                                      2.2%   \n",
       "Population, Census, April 1, 2010                                                  2,504,700   \n",
       "Persons under 5 years, percent                                                          7.1%   \n",
       "\n",
       "                                                    Value Note for Kings County (Brooklyn Borough), New York  \\\n",
       "Fact                                                                                                           \n",
       "Population estimates, July 1, 2019,  (V2019)                                                      NaN          \n",
       "Population estimates base, April 1, 2010,  (V2019)                                                NaN          \n",
       "Population, percent change - April 1, 2010 (est...                                                NaN          \n",
       "Population, Census, April 1, 2010                                                                 NaN          \n",
       "Persons under 5 years, percent                                                                    NaN          \n",
       "\n",
       "                                                   Queens County (Queens Borough), New York  \\\n",
       "Fact                                                                                          \n",
       "Population estimates, July 1, 2019,  (V2019)                                      2,253,858   \n",
       "Population estimates base, April 1, 2010,  (V2019)                                2,230,619   \n",
       "Population, percent change - April 1, 2010 (est...                                     1.0%   \n",
       "Population, Census, April 1, 2010                                                 2,230,722   \n",
       "Persons under 5 years, percent                                                         6.1%   \n",
       "\n",
       "                                                    Value Note for Queens County (Queens Borough), New York  \\\n",
       "Fact                                                                                                          \n",
       "Population estimates, July 1, 2019,  (V2019)                                                      NaN         \n",
       "Population estimates base, April 1, 2010,  (V2019)                                                NaN         \n",
       "Population, percent change - April 1, 2010 (est...                                                NaN         \n",
       "Population, Census, April 1, 2010                                                                 NaN         \n",
       "Persons under 5 years, percent                                                                    NaN         \n",
       "\n",
       "                                                   Richmond County (Staten Island Borough), New York  \\\n",
       "Fact                                                                                                   \n",
       "Population estimates, July 1, 2019,  (V2019)                                                 476,143   \n",
       "Population estimates base, April 1, 2010,  (V2019)                                           468,730   \n",
       "Population, percent change - April 1, 2010 (est...                                              1.6%   \n",
       "Population, Census, April 1, 2010                                                            468,730   \n",
       "Persons under 5 years, percent                                                                  5.7%   \n",
       "\n",
       "                                                    Value Note for Richmond County (Staten Island Borough), New York  \\\n",
       "Fact                                                                                                                   \n",
       "Population estimates, July 1, 2019,  (V2019)                                                      NaN                  \n",
       "Population estimates base, April 1, 2010,  (V2019)                                                NaN                  \n",
       "Population, percent change - April 1, 2010 (est...                                                NaN                  \n",
       "Population, Census, April 1, 2010                                                                 NaN                  \n",
       "Persons under 5 years, percent                                                                    NaN                  \n",
       "\n",
       "                                                   New York County (Manhattan Borough), New York  \\\n",
       "Fact                                                                                               \n",
       "Population estimates, July 1, 2019,  (V2019)                                           1,628,706   \n",
       "Population estimates base, April 1, 2010,  (V2019)                                     1,586,381   \n",
       "Population, percent change - April 1, 2010 (est...                                          2.7%   \n",
       "Population, Census, April 1, 2010                                                      1,585,873   \n",
       "Persons under 5 years, percent                                                              4.7%   \n",
       "\n",
       "                                                    Value Note for New York County (Manhattan Borough), New York  \\\n",
       "Fact                                                                                                               \n",
       "Population estimates, July 1, 2019,  (V2019)                                                      NaN              \n",
       "Population estimates base, April 1, 2010,  (V2019)                                                NaN              \n",
       "Population, percent change - April 1, 2010 (est...                                                NaN              \n",
       "Population, Census, April 1, 2010                                                                 NaN              \n",
       "Persons under 5 years, percent                                                                    NaN              \n",
       "\n",
       "                                                   Bronx County (Bronx Borough), New York  \\\n",
       "Fact                                                                                        \n",
       "Population estimates, July 1, 2019,  (V2019)                                    1,418,207   \n",
       "Population estimates base, April 1, 2010,  (V2019)                              1,384,580   \n",
       "Population, percent change - April 1, 2010 (est...                                   2.4%   \n",
       "Population, Census, April 1, 2010                                               1,385,108   \n",
       "Persons under 5 years, percent                                                       7.1%   \n",
       "\n",
       "                                                    Value Note for Bronx County (Bronx Borough), New York  \\\n",
       "Fact                                                                                                        \n",
       "Population estimates, July 1, 2019,  (V2019)                                                      NaN       \n",
       "Population estimates base, April 1, 2010,  (V2019)                                                NaN       \n",
       "Population, percent change - April 1, 2010 (est...                                                NaN       \n",
       "Population, Census, April 1, 2010                                                                 NaN       \n",
       "Persons under 5 years, percent                                                                    NaN       \n",
       "\n",
       "                                                   New York city, New York  \\\n",
       "Fact                                                                         \n",
       "Population estimates, July 1, 2019,  (V2019)                     8,336,817   \n",
       "Population estimates base, April 1, 2010,  (V2019)               8,175,031   \n",
       "Population, percent change - April 1, 2010 (est...                    2.0%   \n",
       "Population, Census, April 1, 2010                                8,175,133   \n",
       "Persons under 5 years, percent                                        6.5%   \n",
       "\n",
       "                                                    Value Note for New York city, New York  \n",
       "Fact                                                                                        \n",
       "Population estimates, July 1, 2019,  (V2019)                                           NaN  \n",
       "Population estimates base, April 1, 2010,  (V2019)                                     NaN  \n",
       "Population, percent change - April 1, 2010 (est...                                     NaN  \n",
       "Population, Census, April 1, 2010                                                      NaN  \n",
       "Persons under 5 years, percent                                                         NaN  "
      ]
     },
     "execution_count": 82,
     "metadata": {},
     "output_type": "execute_result"
    }
   ],
   "source": [
    "demos = pd.read_csv('quickfacts.csv', index_col=\"Fact\")\n",
    "demos.head()"
   ]
  },
  {
   "cell_type": "code",
   "execution_count": 56,
   "metadata": {},
   "outputs": [],
   "source": [
    "#get rid of ugly columns\n",
    "demos = demos.drop(columns = [column for column in demos.columns[::2]])"
   ]
  },
  {
   "cell_type": "code",
   "execution_count": 57,
   "metadata": {},
   "outputs": [
    {
     "data": {
      "text/plain": [
       "Index(['Brooklyn', 'Queens', 'Staten Island', 'Manhattan', 'Bronx',\n",
       "       'NYC_Total'],\n",
       "      dtype='object')"
      ]
     },
     "execution_count": 57,
     "metadata": {},
     "output_type": "execute_result"
    }
   ],
   "source": [
    "#renamed columns\n",
    "demos.columns = ['Brooklyn', 'Queens', 'Staten Island', 'Manhattan', 'Bronx', 'NYC_Total']\n",
    "demos.columns"
   ]
  },
  {
   "cell_type": "code",
   "execution_count": 58,
   "metadata": {},
   "outputs": [],
   "source": [
    "demos.drop('NYC_Total', axis = 1, inplace = True)"
   ]
  },
  {
   "cell_type": "code",
   "execution_count": 59,
   "metadata": {},
   "outputs": [
    {
     "data": {
      "text/html": [
       "<div>\n",
       "<style scoped>\n",
       "    .dataframe tbody tr th:only-of-type {\n",
       "        vertical-align: middle;\n",
       "    }\n",
       "\n",
       "    .dataframe tbody tr th {\n",
       "        vertical-align: top;\n",
       "    }\n",
       "\n",
       "    .dataframe thead th {\n",
       "        text-align: right;\n",
       "    }\n",
       "</style>\n",
       "<table border=\"1\" class=\"dataframe\">\n",
       "  <thead>\n",
       "    <tr style=\"text-align: right;\">\n",
       "      <th></th>\n",
       "      <th>Bor</th>\n",
       "      <th>Median_Income</th>\n",
       "    </tr>\n",
       "  </thead>\n",
       "  <tbody>\n",
       "    <tr>\n",
       "      <th>0</th>\n",
       "      <td>Brooklyn</td>\n",
       "      <td>56015</td>\n",
       "    </tr>\n",
       "    <tr>\n",
       "      <th>1</th>\n",
       "      <td>Queens</td>\n",
       "      <td>64987</td>\n",
       "    </tr>\n",
       "    <tr>\n",
       "      <th>2</th>\n",
       "      <td>Staten Island</td>\n",
       "      <td>79267</td>\n",
       "    </tr>\n",
       "    <tr>\n",
       "      <th>3</th>\n",
       "      <td>Manhattan</td>\n",
       "      <td>82459</td>\n",
       "    </tr>\n",
       "    <tr>\n",
       "      <th>4</th>\n",
       "      <td>Bronx</td>\n",
       "      <td>38085</td>\n",
       "    </tr>\n",
       "  </tbody>\n",
       "</table>\n",
       "</div>"
      ],
      "text/plain": [
       "             Bor  Median_Income\n",
       "0       Brooklyn          56015\n",
       "1         Queens          64987\n",
       "2  Staten Island          79267\n",
       "3      Manhattan          82459\n",
       "4          Bronx          38085"
      ]
     },
     "execution_count": 59,
     "metadata": {},
     "output_type": "execute_result"
    }
   ],
   "source": [
    "income = demos.loc['Median household income (in 2018 dollars), 2014-2018']\n",
    "income = income.str.replace('$', '')\n",
    "income = income.str.replace(',', '')\n",
    "income = income.astype(int)\n",
    "income = income.reset_index()\n",
    "income.columns = ['Bor', 'Median_Income']\n",
    "income"
   ]
  },
  {
   "cell_type": "code",
   "execution_count": 90,
   "metadata": {},
   "outputs": [
    {
     "data": {
      "image/png": "[encoded data removed]",
      "text/plain": [
       "<Figure size 720x360 with 1 Axes>"
      ]
     },
     "metadata": {},
     "output_type": "display_data"
    }
   ],
   "source": [
    "plt.figure(figsize=(10,5))\n",
    "sns.barplot(x='Bor', y='Median_Income', data=income)\n",
    "plt.title(\"Median Income By NYC Borough\", size=20)\n",
    "plt.ylabel('Median Household Income ($)', size=13)\n",
    "plt.xlabel('NYC Borough', size=13)\n",
    "sns.despine()\n",
    "# plt.savefig('Median_Income.png', dpi=1200)"
   ]
  },
  {
   "cell_type": "code",
   "execution_count": 73,
   "metadata": {},
   "outputs": [],
   "source": [
    "#women owned firms\n",
    "wof = demos.loc['Women-owned firms, 2012']\n",
    "wof = wof.str.replace(',', '')\n",
    "wof = wof.astype(int)\n",
    "wof = wof.reset_index()\n",
    "wof.columns = ['Bor', 'Women_Owned_Firms']"
   ]
  },
  {
   "cell_type": "code",
   "execution_count": 89,
   "metadata": {},
   "outputs": [
    {
     "data": {
      "image/png": "[encoded data removed]",
      "text/plain": [
       "<Figure size 720x360 with 1 Axes>"
      ]
     },
     "metadata": {},
     "output_type": "display_data"
    }
   ],
   "source": [
    "plt.figure(figsize=(10,5))\n",
    "sns.barplot(x='Bor', y='Women_Owned_Firms', data=wof)\n",
    "plt.xlabel('NYC Borough', size=13)\n",
    "plt.ylabel('Women Owned Firms', size=13)\n",
    "plt.title(\"Women Owned Firms By NYC Borough\", size=20)\n",
    "sns.despine()\n",
    "# plt.savefig('Women_Owned_Firms.png', dpi=1200)"
   ]
  },
  {
   "cell_type": "code",
   "execution_count": 9,
   "metadata": {},
   "outputs": [],
   "source": [
    "#put values on top of bars"
   ]
  },
  {
   "cell_type": "code",
   "execution_count": 10,
   "metadata": {},
   "outputs": [],
   "source": [
    "#%women, a sanity check\n",
    "pct_w = demos.loc[\"Female persons, percent\"]\n",
    "pct_w = pct_w .str.replace('%', '')\n",
    "pct_w = pct_w .astype(float)\n",
    "pct_w = pct_w .reset_index()\n",
    "pct_w.columns = ['Bor', 'Percentage_Women']"
   ]
  },
  {
   "cell_type": "code",
   "execution_count": 81,
   "metadata": {},
   "outputs": [
    {
     "data": {
      "image/png": "[encoded data removed]",
      "text/plain": [
       "<Figure size 720x360 with 1 Axes>"
      ]
     },
     "metadata": {},
     "output_type": "display_data"
    }
   ],
   "source": [
    "plt.figure(figsize=(10,5))\n",
    "sns.barplot(x='Bor', y='Percentage_Women', data=pct_w)\n",
    "plt.xlabel('NYC Borough', size=13)\n",
    "plt.ylabel('Women %', size=13)\n",
    "plt.title(\"Percentage of Women By Borough\", size=20)\n",
    "sns.despine()"
   ]
  },
  {
   "cell_type": "code",
   "execution_count": null,
   "metadata": {},
   "outputs": [],
   "source": []
  }
 ],
 "metadata": {
  "kernelspec": {
   "display_name": "Python 3",
   "language": "python",
   "name": "python3"
  },
  "language_info": {
   "codemirror_mode": {
    "name": "ipython",
    "version": 3
   },
   "file_extension": ".py",
   "mimetype": "text/x-python",
   "name": "python",
   "nbconvert_exporter": "python",
   "pygments_lexer": "ipython3",
   "version": "3.8.3"
  }
 },
 "nbformat": 4,
 "nbformat_minor": 4
}
